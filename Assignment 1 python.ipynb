{
 "cells": [
  {
   "cell_type": "markdown",
   "id": "c801e5ca-c088-48e6-bc1f-3e3a6ef4843e",
   "metadata": {},
   "source": [
    "Assignment Questions"
   ]
  },
  {
   "cell_type": "markdown",
   "id": "6f2aa5fa-6c01-4a2b-b888-022318c534f9",
   "metadata": {},
   "source": [
    "##1. Who developed Python Programming Language? "
   ]
  },
  {
   "cell_type": "markdown",
   "id": "039061e3-3f99-4b89-bd1c-43495907a73d",
   "metadata": {},
   "source": [
    "Ans : Guido van Rossum"
   ]
  },
  {
   "cell_type": "markdown",
   "id": "fa1b72ea-752a-4bd4-87af-a09fdf85586f",
   "metadata": {},
   "source": [
    "##2. Which type of Programming does Python support? "
   ]
  },
  {
   "cell_type": "markdown",
   "id": "680efa73-2e7c-4d64-9866-78457cb960b0",
   "metadata": {},
   "source": [
    "Ans : Object oriented, structured and functional programming."
   ]
  },
  {
   "cell_type": "markdown",
   "id": "a0926e8d-b4cf-4b5f-ab43-5ffc45a941c2",
   "metadata": {},
   "source": [
    "##3. Is Python case sensitive when dealing with identifiers? "
   ]
  },
  {
   "cell_type": "markdown",
   "id": "e558695d-3e1e-4650-8ccc-66ef8f35a4d0",
   "metadata": {},
   "source": [
    "Ans : Yes"
   ]
  },
  {
   "cell_type": "markdown",
   "id": "d9fd13d3-8b67-48a2-9efe-3355efb0eacc",
   "metadata": {},
   "source": [
    "##4. What is the correct extension of the Python file? "
   ]
  },
  {
   "cell_type": "markdown",
   "id": "a6571f09-0ff0-44d0-8788-ceae0377c4d8",
   "metadata": {},
   "source": [
    "Ans : .ipynb"
   ]
  },
  {
   "cell_type": "markdown",
   "id": "058ca688-14ac-4841-96e6-86768b3271c2",
   "metadata": {},
   "source": [
    "##5. Is Python code compiled or interpreted? "
   ]
  },
  {
   "cell_type": "markdown",
   "id": "74350610-444a-4ff1-9dea-e426e703dbf2",
   "metadata": {},
   "source": [
    "Ans : Interpreted."
   ]
  },
  {
   "cell_type": "markdown",
   "id": "10ef19ca-4bf7-47f7-9378-9ee0094185db",
   "metadata": {},
   "source": [
    "##6. Name a few blocks of code used to define in Python language? "
   ]
  },
  {
   "cell_type": "markdown",
   "id": "f8d506f0-f74e-49a3-9059-cfc90972949f",
   "metadata": {},
   "source": [
    "Ans : a module, a function body and a class definition."
   ]
  },
  {
   "cell_type": "markdown",
   "id": "c7724de2-5df0-4c68-8a5f-ea9ec6d3c22e",
   "metadata": {},
   "source": [
    "##7. State a character used to give single-line comments in Python? "
   ]
  },
  {
   "cell_type": "markdown",
   "id": "b62e4be1-0bb8-4477-82b9-17656e4d7519",
   "metadata": {},
   "source": [
    "Ans : ##"
   ]
  },
  {
   "cell_type": "markdown",
   "id": "0f16db4d-2fe3-49a8-b720-67ca40c266d2",
   "metadata": {},
   "source": [
    "##8. Mention functions which can help us to find the version of python that we are currently working on? "
   ]
  },
  {
   "cell_type": "markdown",
   "id": "8a36653a-4ec6-4fe4-9772-eb8a433afa77",
   "metadata": {},
   "source": [
    "Ans : sys.version or we can also see it in Pwskill labs."
   ]
  },
  {
   "cell_type": "markdown",
   "id": "6fcdd2cc-e2e3-4116-86c0-a04efaf4819f",
   "metadata": {},
   "source": [
    "##9. Python supports the creation of anonymous functions at runtime, using a construct called "
   ]
  },
  {
   "cell_type": "markdown",
   "id": "747506c6-2fdf-478f-8f77-567fe9e6014f",
   "metadata": {},
   "source": [
    "Ans : lambda"
   ]
  },
  {
   "cell_type": "markdown",
   "id": "39baeba7-9e29-4761-82e4-b36751de9dce",
   "metadata": {},
   "source": [
    "##10. What does pip stand for python?"
   ]
  },
  {
   "cell_type": "markdown",
   "id": "dc9ebb54-2cd0-46be-9f01-4b672d092163",
   "metadata": {},
   "source": [
    "Ans : Preferred Installer Program"
   ]
  },
  {
   "cell_type": "markdown",
   "id": "82cd1818-2505-4407-b7d5-22947c7f0f34",
   "metadata": {},
   "source": [
    "##11. Mention a few built-in functions in python?"
   ]
  },
  {
   "cell_type": "markdown",
   "id": "f1a4dca7-40c7-4110-94f8-24ccd0cd853b",
   "metadata": {},
   "source": [
    "Ans : len, string, type, str, sum"
   ]
  },
  {
   "cell_type": "markdown",
   "id": "8a73f413-6525-48ba-9e0f-5f0029e5953e",
   "metadata": {},
   "source": [
    "##12. What is the maximum possible length of an identifier in Python? "
   ]
  },
  {
   "cell_type": "markdown",
   "id": "83885129-bfc1-4ae8-a0f6-e8e9140d9088",
   "metadata": {},
   "source": [
    "Ans : 79"
   ]
  },
  {
   "cell_type": "markdown",
   "id": "9a2ed591-0b68-47e1-ad7e-dda46b5b0c81",
   "metadata": {},
   "source": [
    "##13. What are the benefits of using Python? "
   ]
  },
  {
   "cell_type": "markdown",
   "id": "865cf267-d8b0-4887-a099-3b2fb22fd9e4",
   "metadata": {},
   "source": [
    "Ans : user friendly, high-level language, multiple use cases, interpreted language."
   ]
  },
  {
   "cell_type": "markdown",
   "id": "ad1ccf20-2252-49ca-a6d0-e2b0c63ea2f9",
   "metadata": {},
   "source": [
    "##14. How is memory managed in Python? "
   ]
  },
  {
   "cell_type": "markdown",
   "id": "4e9ad563-9997-4c32-aef4-beef1d756572",
   "metadata": {},
   "source": [
    "Ans : It involves a private heap containing all Python objects and data structures"
   ]
  },
  {
   "cell_type": "markdown",
   "id": "e05fae6a-b69b-483c-a98c-3e038c1c4459",
   "metadata": {},
   "source": [
    "##15. How to install Python on Windows and set path variables?"
   ]
  },
  {
   "cell_type": "markdown",
   "id": "de8b3fde-70a5-4c53-a226-1efc19c9c04a",
   "metadata": {},
   "source": [
    "Ans : Right click on My Computer and click on properties.\n",
    "Click on Advanced System settings.\n",
    "Click on the Environment Variable tab.\n",
    "Click on the new tab of user variables.\n",
    "Write path in variable name.\n",
    "Copy the path of the Python folder.\n",
    "Paste path of Python in variable value.\n",
    "Click on Ok button."
   ]
  },
  {
   "cell_type": "markdown",
   "id": "3a3e84f2-2067-4cc4-8a72-21ad03d36da8",
   "metadata": {},
   "source": [
    "##16. Is indentation required in python? "
   ]
  },
  {
   "cell_type": "markdown",
   "id": "a2a18b39-482b-493e-b4ea-147d0c1549e6",
   "metadata": {},
   "source": [
    "Ans : Indentation is mandatory in python to define the blocks of statements"
   ]
  },
  {
   "cell_type": "code",
   "execution_count": null,
   "id": "be23ebc4-171f-4a8a-8d86-5099f0aedb78",
   "metadata": {},
   "outputs": [],
   "source": []
  },
  {
   "cell_type": "code",
   "execution_count": null,
   "id": "0c87de7f-31ea-44c5-8276-e7b15e700596",
   "metadata": {},
   "outputs": [],
   "source": []
  },
  {
   "cell_type": "code",
   "execution_count": null,
   "id": "5823f45e-ff91-474b-8982-629c70915a59",
   "metadata": {},
   "outputs": [],
   "source": []
  },
  {
   "cell_type": "code",
   "execution_count": null,
   "id": "5cb4f542-8f3b-4ea4-bea9-ee04db6a08fe",
   "metadata": {},
   "outputs": [],
   "source": []
  },
  {
   "cell_type": "code",
   "execution_count": null,
   "id": "dc08d7b4-d60d-4082-90c9-14dce5463a28",
   "metadata": {},
   "outputs": [],
   "source": []
  }
 ],
 "metadata": {
  "kernelspec": {
   "display_name": "Python 3 (ipykernel)",
   "language": "python",
   "name": "python3"
  },
  "language_info": {
   "codemirror_mode": {
    "name": "ipython",
    "version": 3
   },
   "file_extension": ".py",
   "mimetype": "text/x-python",
   "name": "python",
   "nbconvert_exporter": "python",
   "pygments_lexer": "ipython3",
   "version": "3.10.8"
  }
 },
 "nbformat": 4,
 "nbformat_minor": 5
}
